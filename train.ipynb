{
 "cells": [
  {
   "cell_type": "code",
   "execution_count": null,
   "metadata": {},
   "outputs": [],
   "source": [
    "from google.colab import drive\n",
    "drive.mount('/content/drive')"
   ]
  },
  {
   "cell_type": "code",
   "execution_count": null,
   "metadata": {},
   "outputs": [],
   "source": [
    "import os\n",
    "os.getcwd()"
   ]
  },
  {
   "cell_type": "code",
   "execution_count": null,
   "metadata": {},
   "outputs": [],
   "source": [
    "path=\"/content/drive/MyDrive/Colab_Notebooks/panda_grasp/\"\n",
    "os.chdir(path)\n",
    "os.getcwd()"
   ]
  },
  {
   "cell_type": "code",
   "execution_count": null,
   "metadata": {},
   "outputs": [],
   "source": [
    "!ls"
   ]
  },
  {
   "cell_type": "code",
   "execution_count": null,
   "metadata": {},
   "outputs": [],
   "source": [
    "cd Environment/"
   ]
  },
  {
   "cell_type": "code",
   "execution_count": null,
   "metadata": {},
   "outputs": [],
   "source": [
    "pip install stable-baselines3[extra]"
   ]
  },
  {
   "cell_type": "code",
   "execution_count": null,
   "metadata": {},
   "outputs": [],
   "source": [
    "pip install gym"
   ]
  },
  {
   "cell_type": "code",
   "execution_count": null,
   "metadata": {},
   "outputs": [],
   "source": [
    "pip install pybullet"
   ]
  },
  {
   "cell_type": "code",
   "execution_count": 1,
   "metadata": {},
   "outputs": [],
   "source": [
    "import argparse\n",
    "import difflib\n",
    "import os\n",
    "import uuid\n",
    "\n",
    "import gym\n",
    "import numpy as np\n",
    "import seaborn\n",
    "import torch as th\n",
    "from stable_baselines3.common.utils import set_random_seed\n",
    "import task\n",
    "from utils.exp_manager import ExperimentManager\n",
    "from utils.utils import ALGOS, StoreDict\n",
    "\n",
    "seaborn.set()\n"
   ]
  },
  {
   "cell_type": "code",
   "execution_count": 2,
   "metadata": {},
   "outputs": [],
   "source": [
    "def train(args=None):\n",
    "\n",
    "    # Check if the selected environment is valid\n",
    "    # If it could not be found, suggest the closest match\n",
    "    registered_envs = set(gym.envs.registry.env_specs.keys())\n",
    "    if args.env not in registered_envs:\n",
    "        try:\n",
    "            closest_match = difflib.get_close_matches(\n",
    "                args.env, registered_envs, n=1)[0]\n",
    "        except IndexError:\n",
    "            closest_match = \"'no close match found...'\"\n",
    "        raise ValueError(\n",
    "            f\"{args.env} not found in gym registry, you maybe meant {closest_match}?\")\n",
    "\n",
    "    # If no specific seed is selected, choose a random one\n",
    "    if args.seed < 0:\n",
    "        args.seed = np.random.randint(2 ** 32 - 1, dtype=\"int64\").item()\n",
    "\n",
    "    # Set the random seed across platforms\n",
    "    set_random_seed(args.seed)\n",
    "\n",
    "    # Setting num threads to 1 makes things run faster on cpu\n",
    "    if args.num_threads > 0:\n",
    "        if args.verbose > 1:\n",
    "            print(f\"Setting torch.num_threads to {args.num_threads}\")\n",
    "        th.set_num_threads(args.num_threads)\n",
    "\n",
    "    # Verify that pre-trained agent exists before continuing to train it\n",
    "    if args.trained_agent != \"\":\n",
    "        assert args.trained_agent.endswith(\".zip\") and os.path.isfile(\n",
    "            args.trained_agent\n",
    "        ), \"The trained_agent must be a valid path to a .zip file\"\n",
    "\n",
    "    # If enabled, ensure that the run has a unique ID\n",
    "    uuid_str = f\"_{uuid.uuid4()}\" if args.uuid else \"\"\n",
    "\n",
    "    print(\"=\" * 10, args.env, \"=\" * 10)\n",
    "    print(f\"Seed: {args.seed}\")\n",
    "\n",
    "    exp_manager = ExperimentManager(\n",
    "        args,\n",
    "        args.algo,\n",
    "        args.env,\n",
    "        args.log_folder,\n",
    "        args.tensorboard_log,\n",
    "        args.n_timesteps,\n",
    "        args.eval_freq,\n",
    "        args.eval_episodes,\n",
    "        args.save_freq,\n",
    "        args.hyperparams,\n",
    "        args.env_kwargs,\n",
    "        args.trained_agent,\n",
    "        args.optimize_hyperparameters,\n",
    "        args.storage,\n",
    "        args.study_name,\n",
    "        args.n_trials,\n",
    "        args.n_jobs,\n",
    "        args.sampler,\n",
    "        args.pruner,\n",
    "        n_startup_trials=args.n_startup_trials,\n",
    "        n_evaluations=args.n_evaluations,\n",
    "        truncate_last_trajectory=args.truncate_last_trajectory,\n",
    "        uuid_str=uuid_str,\n",
    "        seed=args.seed,\n",
    "        log_interval=args.log_interval,\n",
    "        save_replay_buffer=args.save_replay_buffer,\n",
    "        \n",
    "        verbose=args.verbose,\n",
    "        vec_env_type=args.vec_env,\n",
    "    )\n",
    "\n",
    "    # Prepare experiment and launch hyperparameter optimization if needed\n",
    "    model = exp_manager.setup_experiment()\n",
    "\n",
    "    if args.optimize_hyperparameters:\n",
    "        exp_manager.hyperparameters_optimization()\n",
    "    else:\n",
    "        exp_manager.learn(model)\n",
    "        exp_manager.save_trained_model(model)"
   ]
  },
  {
   "cell_type": "code",
   "execution_count": 3,
   "metadata": {},
   "outputs": [],
   "source": [
    "parser = argparse.ArgumentParser()\n",
    "\n",
    "# Environment and its parameters\n",
    "parser.add_argument(\"--env\", type=str,\n",
    "                        default=\"PandaTouchEnv_color-v0\",\n",
    "                        help=\"environment ID\")\n",
    "parser.add_argument(\"--env-kwargs\", type=str, nargs=\"+\", action=StoreDict,\n",
    "                        help=\"Optional keyword argument to pass to the env constructor\")\n",
    "parser.add_argument(\"--vec-env\", type=str, choices=[\"dummy\", \"subproc\"],\n",
    "                        default=\"dummy\",\n",
    "                        help=\"VecEnv type\")\n",
    "\n",
    "# Algorithm\n",
    "parser.add_argument(\"--algo\", type=str, choices=list(ALGOS.keys()), required=False,\n",
    "                        default=\"sac\", help=\"RL Algorithm\")\n",
    "parser.add_argument(\"-params\", \"--hyperparams\", type=str, nargs=\"+\", action=StoreDict,\n",
    "                        help=\"Overwrite hyperparameter (e.g. learning_rate:0.01 train_freq:10)\")\n",
    "parser.add_argument(\"--num-threads\", type=int,\n",
    "                        default=-1,\n",
    "                        help=\"Number of threads for PyTorch (-1 to use default)\")\n",
    "\n",
    "# Training duration\n",
    "parser.add_argument(\"-n\", \"--n-timesteps\", type=int,\n",
    "                        default=50000,\n",
    "                        help=\"Overwrite the number of timesteps\")\n",
    "\n",
    "# Continue training an already trained agent\n",
    "parser.add_argument(\"-i\", \"--trained-agent\", type=str,\n",
    "                        default=\"\",\n",
    "                        help=\"Path to a pretrained agent to continue training\")\n",
    "\n",
    "# Random seed\n",
    "parser.add_argument(\"--seed\", type=int,\n",
    "                        default=42,\n",
    "                        help=\"Random generator seed\")\n",
    "\n",
    "# Saving of model\n",
    "parser.add_argument(\"--save-freq\", type=int,\n",
    "                        default=1000,\n",
    "                        help=\"Save the model every n steps (if negative, no checkpoint)\")\n",
    "parser.add_argument(\"--save-replay-buffer\", action=\"store_true\",\n",
    "                        default=False,\n",
    "                        help=\"Save the replay buffer too (when applicable)\")\n",
    "\n",
    "# Pre-load a replay buffer and start training on it\n",
    "parser.add_argument(\"--preload-replay-buffer\", type=str,\n",
    "                        default=\"model\",\n",
    "                        help=\"Path to a replay buffer that should be preloaded before starting the training process\")\n",
    "\n",
    "# Logging\n",
    "parser.add_argument(\"-f\", \"--log-folder\", type=str,\n",
    "                        default=\"logs\",\n",
    "                        help=\"Log folder\")\n",
    "parser.add_argument(\"-tb\", \"--tensorboard-log\", type=str,\n",
    "                        default=\"tensorboard_logs\",\n",
    "                        help=\"Tensorboard log dir\")\n",
    "parser.add_argument(\"--log-interval\", type=int,\n",
    "                        default=-1,\n",
    "                        help=\"Override log interval (default: -1, no change)\")\n",
    "parser.add_argument(\"-uuid\", \"--uuid\", action=\"store_true\",\n",
    "                        default=False,\n",
    "                        help=\"Ensure that the run has a unique ID\")\n",
    "\n",
    "# Hyperparameter optimization\n",
    "parser.add_argument(\"-optimize\", \"--optimize-hyperparameters\", action=\"store_true\",\n",
    "                        default=False,\n",
    "                        help=\"Run hyperparameters search\")\n",
    "parser.add_argument(\"--sampler\", type=str, choices=[\"random\", \"tpe\", \"skopt\"],\n",
    "                        default=\"tpe\",\n",
    "                        help=\"Sampler to use when optimizing hyperparameters\")\n",
    "parser.add_argument(\"--pruner\", type=str, choices=[\"halving\", \"median\", \"none\"],\n",
    "                        default=\"median\",\n",
    "                        help=\"Pruner to use when optimizing hyperparameters\")\n",
    "parser.add_argument(\"--n-trials\", type=int,\n",
    "                        default=10,\n",
    "                        help=\"Number of trials for optimizing hyperparameters\")\n",
    "parser.add_argument(\"--n-startup-trials\", type=int,\n",
    "                        default=5,\n",
    "                        help=\"Number of trials before using optuna sampler\")\n",
    "parser.add_argument(\"--n-evaluations\", type=int,\n",
    "                        default=2,\n",
    "                        help=\"Number of evaluations for hyperparameter optimization\")\n",
    "parser.add_argument(\"--n-jobs\", type=int,\n",
    "                        default=1,\n",
    "                        help=\"Number of parallel jobs when optimizing hyperparameters\")\n",
    "parser.add_argument(\"--storage\", type=str,\n",
    "                        default=None,\n",
    "                        help=\"Database storage path if distributed optimization should be used\")\n",
    "parser.add_argument(\"--study-name\", type=str,\n",
    "                        default=None,\n",
    "                        help=\"Study name for distributed optimization\")\n",
    "\n",
    "# Evaluation\n",
    "parser.add_argument(\"--eval-freq\", type=int,\n",
    "                        default=-1,\n",
    "                        help=\"Evaluate the agent every n steps (if negative, no evaluation)\")\n",
    "parser.add_argument(\"--eval-episodes\", type=int,\n",
    "                        default=10,\n",
    "                        help=\"Number of episodes to use for evaluation\")\n",
    "\n",
    "# Verbosity\n",
    "parser.add_argument(\"--verbose\", type=int,\n",
    "                        default=1,\n",
    "                        help=\"Verbose mode (0: no output, 1: INFO)\")\n",
    "\n",
    "# HER specifics\n",
    "parser.add_argument(\n",
    "        \"--truncate-last-trajectory\",\n",
    "        help=\"When using HER with online sampling the last trajectory \"\n",
    "        \"in the replay buffer will be truncated after reloading the replay buffer.\",\n",
    "        default=True,\n",
    "        type=bool,\n",
    ")\n",
    "args, unknown = parser.parse_known_args()"
   ]
  },
  {
   "cell_type": "code",
   "execution_count": 4,
   "metadata": {},
   "outputs": [
    {
     "name": "stdout",
     "output_type": "stream",
     "text": [
      "model\n",
      "sac\n"
     ]
    }
   ],
   "source": [
    "print(args.preload_replay_buffer)\n",
    "print(args.algo)"
   ]
  },
  {
   "cell_type": "code",
   "execution_count": 5,
   "metadata": {},
   "outputs": [
    {
     "name": "stdout",
     "output_type": "stream",
     "text": [
      "========== PandaTouchEnv_color-v0 ==========\n",
      "Seed: 42\n",
      "OrderedDict([('batch_size', 32),\n",
      "             ('buffer_size', 25000),\n",
      "             ('ent_coef', 'auto_0.1'),\n",
      "             ('env_wrapper',\n",
      "              ['task.wrapper.ProcessFrame84',\n",
      "               'task.wrapper.MoveConstraint',\n",
      "               {'task.wrapper.TimeLimit': {'max_episode_steps': 400}}]),\n",
      "             ('gamma', 0.95),\n",
      "             ('gradient_steps', 1),\n",
      "             ('learning_rate', 'lin_0.0003'),\n",
      "             ('learning_starts', 0),\n",
      "             ('n_timesteps', 50000),\n",
      "             ('noise_std', 0.025),\n",
      "             ('noise_type', 'normal'),\n",
      "             ('optimize_memory_usage', True),\n",
      "             ('policy', 'CnnPolicy'),\n",
      "             ('policy_kwargs', {'n_critics': 2, 'net_arch': [128, 128]}),\n",
      "             ('target_entropy', 'auto'),\n",
      "             ('tau', 0.01),\n",
      "             ('train_freq', 1)])\n",
      "Using 1 environments\n",
      "Overwriting n_timesteps with n=50000\n"
     ]
    },
    {
     "name": "stderr",
     "output_type": "stream",
     "text": [
      "ic| self.object_object1_id: 3\n"
     ]
    },
    {
     "name": "stdout",
     "output_type": "stream",
     "text": [
      "Wrapping into a VecTransposeImage\n",
      "Applying normal noise with std 0.025\n",
      "Using cuda device\n"
     ]
    },
    {
     "name": "stderr",
     "output_type": "stream",
     "text": [
      "ic| '============reset=================='\n"
     ]
    },
    {
     "name": "stdout",
     "output_type": "stream",
     "text": [
      "Log path: logs/sac/PandaTouchEnv_color-v0_16\n",
      "Logging to tensorboard_logs/PandaTouchEnv_color-v0/SAC_13\n"
     ]
    },
    {
     "name": "stderr",
     "output_type": "stream",
     "text": [
      "/home/yi/miniconda3/envs/drl_env/lib/python3.7/site-packages/numpy/core/_asarray.py:102: VisibleDeprecationWarning: Creating an ndarray from ragged nested sequences (which is a list-or-tuple of lists-or-tuples-or ndarrays with different lengths or shapes) is deprecated. If you meant to do this, you must specify 'dtype=object' when creating the ndarray.\n",
      "  return array(a, dtype, copy=False, order=order)\n",
      "ic| reward: 1.0, done: True\n",
      "ic| '============reset=================='\n",
      "ic| reward: 1.0, done: True\n",
      "ic| '============reset=================='\n",
      "ic| reward: 1.0, done: True\n",
      "ic| '============reset=================='\n",
      "ic| reward: 1.0, done: True\n",
      "ic| '============reset=================='\n"
     ]
    },
    {
     "name": "stdout",
     "output_type": "stream",
     "text": [
      "---------------------------------\n",
      "| rollout/           |          |\n",
      "|    ep_len_mean     | 120      |\n",
      "|    ep_rew_mean     | 1        |\n",
      "| time/              |          |\n",
      "|    episodes        | 4        |\n",
      "|    fps             | 4        |\n",
      "|    time_elapsed    | 106      |\n",
      "|    total timesteps | 482      |\n",
      "| train/             |          |\n",
      "|    actor_loss      | -1.18    |\n",
      "|    critic_loss     | 0.00236  |\n",
      "|    ent_coef        | 0.0866   |\n",
      "|    ent_coef_loss   | -16.5    |\n",
      "|    learning_rate   | 0.000297 |\n",
      "|    n_updates       | 481      |\n",
      "---------------------------------\n"
     ]
    },
    {
     "name": "stderr",
     "output_type": "stream",
     "text": [
      "ic| reward: 1.0, done: True\n",
      "ic| '============reset=================='\n",
      "ic| reward: 1.0, done: True\n",
      "ic| '============reset=================='\n",
      "ic| reward: 1.0, done: True\n",
      "ic| '============reset=================='\n",
      "ic| reward: 1.0, done: True\n",
      "ic| '============reset=================='\n"
     ]
    },
    {
     "name": "stdout",
     "output_type": "stream",
     "text": [
      "---------------------------------\n",
      "| rollout/           |          |\n",
      "|    ep_len_mean     | 69.9     |\n",
      "|    ep_rew_mean     | 1        |\n",
      "| time/              |          |\n",
      "|    episodes        | 8        |\n",
      "|    fps             | 4        |\n",
      "|    time_elapsed    | 125      |\n",
      "|    total timesteps | 559      |\n",
      "| train/             |          |\n",
      "|    actor_loss      | -1.33    |\n",
      "|    critic_loss     | 0.00144  |\n",
      "|    ent_coef        | 0.0847   |\n",
      "|    ent_coef_loss   | -16.6    |\n",
      "|    learning_rate   | 0.000297 |\n",
      "|    n_updates       | 558      |\n",
      "---------------------------------\n"
     ]
    },
    {
     "name": "stderr",
     "output_type": "stream",
     "text": [
      "ic| '============reset=================='\n",
      "ic| reward: 1.0, done: True\n",
      "ic| '============reset=================='\n",
      "ic| reward: 1.0, done: True\n",
      "ic| '============reset=================='\n",
      "ic| reward: 1.0, done: True\n",
      "ic| '============reset=================='\n"
     ]
    },
    {
     "name": "stdout",
     "output_type": "stream",
     "text": [
      "---------------------------------\n",
      "| rollout/           |          |\n",
      "|    ep_len_mean     | 89       |\n",
      "|    ep_rew_mean     | 1        |\n",
      "| time/              |          |\n",
      "|    episodes        | 12       |\n",
      "|    fps             | 4        |\n",
      "|    time_elapsed    | 316      |\n",
      "|    total timesteps | 1379     |\n",
      "| train/             |          |\n",
      "|    actor_loss      | -2.08    |\n",
      "|    critic_loss     | 0.00356  |\n",
      "|    ent_coef        | 0.0665   |\n",
      "|    ent_coef_loss   | -18.1    |\n",
      "|    learning_rate   | 0.000292 |\n",
      "|    n_updates       | 1378     |\n",
      "---------------------------------\n"
     ]
    },
    {
     "name": "stderr",
     "output_type": "stream",
     "text": [
      "ic| reward: 1.0, done: True\n",
      "ic| '============reset=================='\n",
      "ic| reward: 1.0, done: True\n",
      "ic| '============reset=================='\n",
      "ic| '============reset=================='\n",
      "ic| '============reset=================='\n"
     ]
    },
    {
     "name": "stdout",
     "output_type": "stream",
     "text": [
      "---------------------------------\n",
      "| rollout/           |          |\n",
      "|    ep_len_mean     | 94.8     |\n",
      "|    ep_rew_mean     | 1        |\n",
      "| time/              |          |\n",
      "|    episodes        | 16       |\n",
      "|    fps             | 4        |\n",
      "|    time_elapsed    | 569      |\n",
      "|    total timesteps | 2433     |\n",
      "| train/             |          |\n",
      "|    actor_loss      | -2.09    |\n",
      "|    critic_loss     | 0.00099  |\n",
      "|    ent_coef        | 0.0491   |\n",
      "|    ent_coef_loss   | -20.2    |\n",
      "|    learning_rate   | 0.000285 |\n",
      "|    n_updates       | 2432     |\n",
      "---------------------------------\n"
     ]
    },
    {
     "name": "stderr",
     "output_type": "stream",
     "text": [
      "ic| reward: 1.0, done: True\n",
      "ic| '============reset=================='\n",
      "ic| reward: 1.0, done: True\n",
      "ic| '============reset=================='\n",
      "ic| reward: 1.0, done: True\n",
      "ic| '============reset=================='\n",
      "ic| '============reset=================='\n"
     ]
    },
    {
     "name": "stdout",
     "output_type": "stream",
     "text": [
      "---------------------------------\n",
      "| rollout/           |          |\n",
      "|    ep_len_mean     | 94.9     |\n",
      "|    ep_rew_mean     | 1        |\n",
      "| time/              |          |\n",
      "|    episodes        | 20       |\n",
      "|    fps             | 4        |\n",
      "|    time_elapsed    | 742      |\n",
      "|    total timesteps | 3119     |\n",
      "| train/             |          |\n",
      "|    actor_loss      | -1.76    |\n",
      "|    critic_loss     | 0.000375 |\n",
      "|    ent_coef        | 0.0404   |\n",
      "|    ent_coef_loss   | -21.5    |\n",
      "|    learning_rate   | 0.000281 |\n",
      "|    n_updates       | 3118     |\n",
      "---------------------------------\n"
     ]
    },
    {
     "name": "stderr",
     "output_type": "stream",
     "text": [
      "ic| '============reset=================='\n",
      "ic| reward: 1.0, done: True\n",
      "ic| '============reset=================='\n",
      "ic| '============reset=================='\n",
      "ic| '============reset=================='\n"
     ]
    },
    {
     "name": "stdout",
     "output_type": "stream",
     "text": [
      "---------------------------------\n",
      "| rollout/           |          |\n",
      "|    ep_len_mean     | 108      |\n",
      "|    ep_rew_mean     | 1        |\n",
      "| time/              |          |\n",
      "|    episodes        | 24       |\n",
      "|    fps             | 4        |\n",
      "|    time_elapsed    | 1123     |\n",
      "|    total timesteps | 4641     |\n",
      "| train/             |          |\n",
      "|    actor_loss      | -1.43    |\n",
      "|    critic_loss     | 0.0561   |\n",
      "|    ent_coef        | 0.0265   |\n",
      "|    ent_coef_loss   | -24.4    |\n",
      "|    learning_rate   | 0.000272 |\n",
      "|    n_updates       | 4640     |\n",
      "---------------------------------\n"
     ]
    },
    {
     "name": "stderr",
     "output_type": "stream",
     "text": [
      "ic| reward: 1.0, done: True\n",
      "ic| '============reset=================='\n",
      "ic| reward: 1.0, done: True\n",
      "ic| '============reset=================='\n",
      "ic| '============reset=================='\n",
      "ic| '============reset=================='\n"
     ]
    },
    {
     "name": "stdout",
     "output_type": "stream",
     "text": [
      "---------------------------------\n",
      "| rollout/           |          |\n",
      "|    ep_len_mean     | 105      |\n",
      "|    ep_rew_mean     | 1        |\n",
      "| time/              |          |\n",
      "|    episodes        | 28       |\n",
      "|    fps             | 4        |\n",
      "|    time_elapsed    | 1371     |\n",
      "|    total timesteps | 5604     |\n",
      "| train/             |          |\n",
      "|    actor_loss      | -1.06    |\n",
      "|    critic_loss     | 0.0104   |\n",
      "|    ent_coef        | 0.0205   |\n",
      "|    ent_coef_loss   | -26      |\n",
      "|    learning_rate   | 0.000266 |\n",
      "|    n_updates       | 5603     |\n",
      "---------------------------------\n"
     ]
    },
    {
     "name": "stderr",
     "output_type": "stream",
     "text": [
      "ic| '============reset=================='\n",
      "ic| '============reset=================='\n",
      "ic| '============reset=================='\n",
      "ic| '============reset=================='\n"
     ]
    },
    {
     "name": "stdout",
     "output_type": "stream",
     "text": [
      "---------------------------------\n",
      "| rollout/           |          |\n",
      "|    ep_len_mean     | 105      |\n",
      "|    ep_rew_mean     | 1        |\n",
      "| time/              |          |\n",
      "|    episodes        | 32       |\n",
      "|    fps             | 4        |\n",
      "|    time_elapsed    | 1774     |\n",
      "|    total timesteps | 7204     |\n",
      "| train/             |          |\n",
      "|    actor_loss      | -0.94    |\n",
      "|    critic_loss     | 0.000287 |\n",
      "|    ent_coef        | 0.0135   |\n",
      "|    ent_coef_loss   | -28.8    |\n",
      "|    learning_rate   | 0.000257 |\n",
      "|    n_updates       | 7203     |\n",
      "---------------------------------\n"
     ]
    },
    {
     "name": "stderr",
     "output_type": "stream",
     "text": [
      "ic| '============reset=================='\n",
      "ic| '============reset=================='\n",
      "ic| '============reset=================='\n",
      "ic| '============reset=================='\n"
     ]
    },
    {
     "name": "stdout",
     "output_type": "stream",
     "text": [
      "---------------------------------\n",
      "| rollout/           |          |\n",
      "|    ep_len_mean     | 105      |\n",
      "|    ep_rew_mean     | 1        |\n",
      "| time/              |          |\n",
      "|    episodes        | 36       |\n",
      "|    fps             | 4        |\n",
      "|    time_elapsed    | 2173     |\n",
      "|    total timesteps | 8804     |\n",
      "| train/             |          |\n",
      "|    actor_loss      | -0.72    |\n",
      "|    critic_loss     | 2.87e-05 |\n",
      "|    ent_coef        | 0.009    |\n",
      "|    ent_coef_loss   | -31.7    |\n",
      "|    learning_rate   | 0.000247 |\n",
      "|    n_updates       | 8803     |\n",
      "---------------------------------\n"
     ]
    },
    {
     "name": "stderr",
     "output_type": "stream",
     "text": [
      "ic| '============reset=================='\n",
      "ic| '============reset=================='\n",
      "ic| '============reset=================='\n",
      "ic| '============reset=================='\n"
     ]
    },
    {
     "name": "stdout",
     "output_type": "stream",
     "text": [
      "---------------------------------\n",
      "| rollout/           |          |\n",
      "|    ep_len_mean     | 105      |\n",
      "|    ep_rew_mean     | 1        |\n",
      "| time/              |          |\n",
      "|    episodes        | 40       |\n",
      "|    fps             | 4        |\n",
      "|    time_elapsed    | 2576     |\n",
      "|    total timesteps | 10404    |\n",
      "| train/             |          |\n",
      "|    actor_loss      | -0.507   |\n",
      "|    critic_loss     | 0.000136 |\n",
      "|    ent_coef        | 0.00611  |\n",
      "|    ent_coef_loss   | -34      |\n",
      "|    learning_rate   | 0.000238 |\n",
      "|    n_updates       | 10403    |\n",
      "---------------------------------\n"
     ]
    },
    {
     "name": "stderr",
     "output_type": "stream",
     "text": [
      "ic| '============reset=================='\n",
      "ic| reward: 1.0, done: True\n",
      "ic| '============reset=================='\n",
      "ic| reward: 1.0, done: True\n",
      "ic| '============reset=================='\n",
      "ic| reward: 1.0, done: True\n",
      "ic| '============reset=================='\n"
     ]
    },
    {
     "name": "stdout",
     "output_type": "stream",
     "text": [
      "---------------------------------\n",
      "| rollout/           |          |\n",
      "|    ep_len_mean     | 99.6     |\n",
      "|    ep_rew_mean     | 1        |\n",
      "| time/              |          |\n",
      "|    episodes        | 44       |\n",
      "|    fps             | 4        |\n",
      "|    time_elapsed    | 2711     |\n",
      "|    total timesteps | 10992    |\n",
      "| train/             |          |\n",
      "|    actor_loss      | -0.446   |\n",
      "|    critic_loss     | 1.96e-05 |\n",
      "|    ent_coef        | 0.00532  |\n",
      "|    ent_coef_loss   | -35.1    |\n",
      "|    learning_rate   | 0.000234 |\n",
      "|    n_updates       | 10991    |\n",
      "---------------------------------\n"
     ]
    },
    {
     "name": "stderr",
     "output_type": "stream",
     "text": [
      "ic| '============reset=================='\n",
      "ic| '============reset=================='\n",
      "ic| '============reset=================='\n",
      "ic| '============reset=================='\n"
     ]
    },
    {
     "name": "stdout",
     "output_type": "stream",
     "text": [
      "---------------------------------\n",
      "| rollout/           |          |\n",
      "|    ep_len_mean     | 99.6     |\n",
      "|    ep_rew_mean     | 1        |\n",
      "| time/              |          |\n",
      "|    episodes        | 48       |\n",
      "|    fps             | 4        |\n",
      "|    time_elapsed    | 3099     |\n",
      "|    total timesteps | 12592    |\n",
      "| train/             |          |\n",
      "|    actor_loss      | -0.368   |\n",
      "|    critic_loss     | 0.000147 |\n",
      "|    ent_coef        | 0.00369  |\n",
      "|    ent_coef_loss   | -36.6    |\n",
      "|    learning_rate   | 0.000224 |\n",
      "|    n_updates       | 12591    |\n",
      "---------------------------------\n"
     ]
    },
    {
     "name": "stderr",
     "output_type": "stream",
     "text": [
      "ic| '============reset=================='\n",
      "ic| '============reset=================='\n",
      "ic| '============reset=================='\n",
      "ic| '============reset=================='\n"
     ]
    },
    {
     "name": "stdout",
     "output_type": "stream",
     "text": [
      "---------------------------------\n",
      "| rollout/           |          |\n",
      "|    ep_len_mean     | 99.6     |\n",
      "|    ep_rew_mean     | 1        |\n",
      "| time/              |          |\n",
      "|    episodes        | 52       |\n",
      "|    fps             | 4        |\n",
      "|    time_elapsed    | 3506     |\n",
      "|    total timesteps | 14192    |\n",
      "| train/             |          |\n",
      "|    actor_loss      | -0.262   |\n",
      "|    critic_loss     | 5.22e-06 |\n",
      "|    ent_coef        | 0.0026   |\n",
      "|    ent_coef_loss   | -39.9    |\n",
      "|    learning_rate   | 0.000215 |\n",
      "|    n_updates       | 14191    |\n",
      "---------------------------------\n"
     ]
    },
    {
     "name": "stderr",
     "output_type": "stream",
     "text": [
      "ic| '============reset=================='\n",
      "ic| '============reset=================='\n",
      "ic| '============reset=================='\n",
      "ic| '============reset=================='\n"
     ]
    },
    {
     "name": "stdout",
     "output_type": "stream",
     "text": [
      "---------------------------------\n",
      "| rollout/           |          |\n",
      "|    ep_len_mean     | 99.6     |\n",
      "|    ep_rew_mean     | 1        |\n",
      "| time/              |          |\n",
      "|    episodes        | 56       |\n",
      "|    fps             | 4        |\n",
      "|    time_elapsed    | 3908     |\n",
      "|    total timesteps | 15792    |\n",
      "| train/             |          |\n",
      "|    actor_loss      | -0.186   |\n",
      "|    critic_loss     | 0.000359 |\n",
      "|    ent_coef        | 0.00186  |\n",
      "|    ent_coef_loss   | -40.7    |\n",
      "|    learning_rate   | 0.000205 |\n",
      "|    n_updates       | 15791    |\n",
      "---------------------------------\n"
     ]
    },
    {
     "name": "stderr",
     "output_type": "stream",
     "text": [
      "ic| reward: 1.0, done: True\n",
      "ic| '============reset=================='\n",
      "ic| reward: 1.0, done: True\n",
      "ic| '============reset=================='\n",
      "ic| '============reset=================='\n",
      "ic| '============reset=================='\n"
     ]
    },
    {
     "name": "stdout",
     "output_type": "stream",
     "text": [
      "---------------------------------\n",
      "| rollout/           |          |\n",
      "|    ep_len_mean     | 93.6     |\n",
      "|    ep_rew_mean     | 1        |\n",
      "| time/              |          |\n",
      "|    episodes        | 60       |\n",
      "|    fps             | 4        |\n",
      "|    time_elapsed    | 4120     |\n",
      "|    total timesteps | 16647    |\n",
      "| train/             |          |\n",
      "|    actor_loss      | -0.141   |\n",
      "|    critic_loss     | 1.1e-05  |\n",
      "|    ent_coef        | 0.00156  |\n",
      "|    ent_coef_loss   | -43.3    |\n",
      "|    learning_rate   | 0.0002   |\n",
      "|    n_updates       | 16646    |\n",
      "---------------------------------\n"
     ]
    },
    {
     "name": "stderr",
     "output_type": "stream",
     "text": [
      "ic| '============reset=================='\n",
      "ic| '============reset=================='\n",
      "ic| '============reset=================='\n",
      "ic| '============reset=================='\n"
     ]
    },
    {
     "name": "stdout",
     "output_type": "stream",
     "text": [
      "---------------------------------\n",
      "| rollout/           |          |\n",
      "|    ep_len_mean     | 93.6     |\n",
      "|    ep_rew_mean     | 1        |\n",
      "| time/              |          |\n",
      "|    episodes        | 64       |\n",
      "|    fps             | 4        |\n",
      "|    time_elapsed    | 4528     |\n",
      "|    total timesteps | 18247    |\n",
      "| train/             |          |\n",
      "|    actor_loss      | -0.139   |\n",
      "|    critic_loss     | 5.07e-06 |\n",
      "|    ent_coef        | 0.00114  |\n",
      "|    ent_coef_loss   | -44.4    |\n",
      "|    learning_rate   | 0.000191 |\n",
      "|    n_updates       | 18246    |\n",
      "---------------------------------\n"
     ]
    },
    {
     "name": "stderr",
     "output_type": "stream",
     "text": [
      "ic| '============reset=================='\n",
      "ic| '============reset=================='\n",
      "ic| '============reset=================='\n",
      "ic| '============reset=================='\n"
     ]
    },
    {
     "name": "stdout",
     "output_type": "stream",
     "text": [
      "---------------------------------\n",
      "| rollout/           |          |\n",
      "|    ep_len_mean     | 93.6     |\n",
      "|    ep_rew_mean     | 1        |\n",
      "| time/              |          |\n",
      "|    episodes        | 68       |\n",
      "|    fps             | 4        |\n",
      "|    time_elapsed    | 4895     |\n",
      "|    total timesteps | 19847    |\n",
      "| train/             |          |\n",
      "|    actor_loss      | -0.13    |\n",
      "|    critic_loss     | 2.9e-05  |\n",
      "|    ent_coef        | 0.000854 |\n",
      "|    ent_coef_loss   | -46      |\n",
      "|    learning_rate   | 0.000181 |\n",
      "|    n_updates       | 19846    |\n",
      "---------------------------------\n"
     ]
    },
    {
     "name": "stderr",
     "output_type": "stream",
     "text": [
      "ic| '============reset=================='\n",
      "ic| '============reset=================='\n",
      "ic| '============reset=================='\n",
      "ic| reward: 1.0, done: True\n",
      "ic| '============reset=================='\n"
     ]
    },
    {
     "name": "stdout",
     "output_type": "stream",
     "text": [
      "---------------------------------\n",
      "| rollout/           |          |\n",
      "|    ep_len_mean     | 91       |\n",
      "|    ep_rew_mean     | 1        |\n",
      "| time/              |          |\n",
      "|    episodes        | 72       |\n",
      "|    fps             | 4        |\n",
      "|    time_elapsed    | 5181     |\n",
      "|    total timesteps | 21074    |\n",
      "| train/             |          |\n",
      "|    actor_loss      | -0.0992  |\n",
      "|    critic_loss     | 8.66e-05 |\n",
      "|    ent_coef        | 0.000689 |\n",
      "|    ent_coef_loss   | -42.4    |\n",
      "|    learning_rate   | 0.000174 |\n",
      "|    n_updates       | 21073    |\n",
      "---------------------------------\n"
     ]
    },
    {
     "name": "stderr",
     "output_type": "stream",
     "text": [
      "ic| '============reset=================='\n",
      "ic| '============reset=================='\n",
      "ic| '============reset=================='\n",
      "ic| '============reset=================='\n"
     ]
    },
    {
     "name": "stdout",
     "output_type": "stream",
     "text": [
      "---------------------------------\n",
      "| rollout/           |          |\n",
      "|    ep_len_mean     | 91       |\n",
      "|    ep_rew_mean     | 1        |\n",
      "| time/              |          |\n",
      "|    episodes        | 76       |\n",
      "|    fps             | 4        |\n",
      "|    time_elapsed    | 5586     |\n",
      "|    total timesteps | 22674    |\n",
      "| train/             |          |\n",
      "|    actor_loss      | -0.0862  |\n",
      "|    critic_loss     | 1.1e-05  |\n",
      "|    ent_coef        | 0.000528 |\n",
      "|    ent_coef_loss   | -44.1    |\n",
      "|    learning_rate   | 0.000164 |\n",
      "|    n_updates       | 22673    |\n",
      "---------------------------------\n"
     ]
    },
    {
     "name": "stderr",
     "output_type": "stream",
     "text": [
      "ic| '============reset=================='\n",
      "ic| '============reset=================='\n",
      "ic| reward: 1.0, done: True\n",
      "ic| '============reset=================='\n",
      "ic| reward: 1.0, done: True\n",
      "ic| '============reset=================='\n"
     ]
    },
    {
     "name": "stdout",
     "output_type": "stream",
     "text": [
      "---------------------------------\n",
      "| rollout/           |          |\n",
      "|    ep_len_mean     | 85.7     |\n",
      "|    ep_rew_mean     | 1        |\n",
      "| time/              |          |\n",
      "|    episodes        | 80       |\n",
      "|    fps             | 4        |\n",
      "|    time_elapsed    | 5800     |\n",
      "|    total timesteps | 23514    |\n",
      "| train/             |          |\n",
      "|    actor_loss      | -0.086   |\n",
      "|    critic_loss     | 1.12e-06 |\n",
      "|    ent_coef        | 0.000462 |\n",
      "|    ent_coef_loss   | -50      |\n",
      "|    learning_rate   | 0.000159 |\n",
      "|    n_updates       | 23513    |\n",
      "---------------------------------\n"
     ]
    },
    {
     "name": "stderr",
     "output_type": "stream",
     "text": [
      "ic| '============reset=================='\n",
      "ic| '============reset=================='\n",
      "ic| '============reset=================='\n",
      "ic| '============reset=================='\n"
     ]
    },
    {
     "name": "stdout",
     "output_type": "stream",
     "text": [
      "---------------------------------\n",
      "| rollout/           |          |\n",
      "|    ep_len_mean     | 85.7     |\n",
      "|    ep_rew_mean     | 1        |\n",
      "| time/              |          |\n",
      "|    episodes        | 84       |\n",
      "|    fps             | 4        |\n",
      "|    time_elapsed    | 6202     |\n",
      "|    total timesteps | 25114    |\n",
      "| train/             |          |\n",
      "|    actor_loss      | -0.0795  |\n",
      "|    critic_loss     | 3.11e-06 |\n",
      "|    ent_coef        | 0.000363 |\n",
      "|    ent_coef_loss   | -35.9    |\n",
      "|    learning_rate   | 0.000149 |\n",
      "|    n_updates       | 25113    |\n",
      "---------------------------------\n"
     ]
    },
    {
     "name": "stderr",
     "output_type": "stream",
     "text": [
      "ic| '============reset=================='\n",
      "ic| '============reset=================='\n",
      "ic| '============reset=================='\n",
      "ic| '============reset=================='\n"
     ]
    },
    {
     "name": "stdout",
     "output_type": "stream",
     "text": [
      "---------------------------------\n",
      "| rollout/           |          |\n",
      "|    ep_len_mean     | 85.7     |\n",
      "|    ep_rew_mean     | 1        |\n",
      "| time/              |          |\n",
      "|    episodes        | 88       |\n",
      "|    fps             | 4        |\n",
      "|    time_elapsed    | 6604     |\n",
      "|    total timesteps | 26714    |\n",
      "| train/             |          |\n",
      "|    actor_loss      | -0.0845  |\n",
      "|    critic_loss     | 1.67e-06 |\n",
      "|    ent_coef        | 0.000288 |\n",
      "|    ent_coef_loss   | -52.6    |\n",
      "|    learning_rate   | 0.00014  |\n",
      "|    n_updates       | 26713    |\n",
      "---------------------------------\n"
     ]
    },
    {
     "name": "stderr",
     "output_type": "stream",
     "text": [
      "ic| '============reset=================='\n",
      "ic| reward: 1.0, done: True\n",
      "ic| '============reset=================='\n",
      "ic| '============reset=================='\n",
      "ic| '============reset=================='\n"
     ]
    },
    {
     "name": "stdout",
     "output_type": "stream",
     "text": [
      "---------------------------------\n",
      "| rollout/           |          |\n",
      "|    ep_len_mean     | 95.5     |\n",
      "|    ep_rew_mean     | 1        |\n",
      "| time/              |          |\n",
      "|    episodes        | 92       |\n",
      "|    fps             | 4        |\n",
      "|    time_elapsed    | 7000     |\n",
      "|    total timesteps | 28273    |\n",
      "| train/             |          |\n",
      "|    actor_loss      | -0.0561  |\n",
      "|    critic_loss     | 0.000167 |\n",
      "|    ent_coef        | 0.000234 |\n",
      "|    ent_coef_loss   | -54      |\n",
      "|    learning_rate   | 0.00013  |\n",
      "|    n_updates       | 28272    |\n",
      "---------------------------------\n"
     ]
    },
    {
     "name": "stderr",
     "output_type": "stream",
     "text": [
      "ic| reward: 1.0, done: True\n",
      "ic| '============reset=================='\n",
      "ic| '============reset=================='\n",
      "ic| '============reset=================='\n",
      "ic| '============reset=================='\n"
     ]
    },
    {
     "name": "stdout",
     "output_type": "stream",
     "text": [
      "---------------------------------\n",
      "| rollout/           |          |\n",
      "|    ep_len_mean     | 92.6     |\n",
      "|    ep_rew_mean     | 1        |\n",
      "| time/              |          |\n",
      "|    episodes        | 96       |\n",
      "|    fps             | 4        |\n",
      "|    time_elapsed    | 7302     |\n",
      "|    total timesteps | 29485    |\n",
      "| train/             |          |\n",
      "|    actor_loss      | -0.0526  |\n",
      "|    critic_loss     | 1.36e-06 |\n",
      "|    ent_coef        | 0.000201 |\n",
      "|    ent_coef_loss   | -53.9    |\n",
      "|    learning_rate   | 0.000123 |\n",
      "|    n_updates       | 29484    |\n",
      "---------------------------------\n"
     ]
    },
    {
     "name": "stderr",
     "output_type": "stream",
     "text": [
      "ic| reward: 1.0, done: True\n",
      "ic| '============reset=================='\n",
      "ic| '============reset=================='\n",
      "ic| '============reset=================='\n",
      "ic| '============reset=================='\n"
     ]
    },
    {
     "name": "stdout",
     "output_type": "stream",
     "text": [
      "---------------------------------\n",
      "| rollout/           |          |\n",
      "|    ep_len_mean     | 91.9     |\n",
      "|    ep_rew_mean     | 1        |\n",
      "| time/              |          |\n",
      "|    episodes        | 100      |\n",
      "|    fps             | 4        |\n",
      "|    time_elapsed    | 7625     |\n",
      "|    total timesteps | 30757    |\n",
      "| train/             |          |\n",
      "|    actor_loss      | -0.0494  |\n",
      "|    critic_loss     | 0.000108 |\n",
      "|    ent_coef        | 0.000174 |\n",
      "|    ent_coef_loss   | -42.6    |\n",
      "|    learning_rate   | 0.000115 |\n",
      "|    n_updates       | 30756    |\n",
      "---------------------------------\n"
     ]
    },
    {
     "name": "stderr",
     "output_type": "stream",
     "text": [
      "ic| '============reset=================='\n",
      "ic| '============reset=================='\n",
      "ic| '============reset=================='\n",
      "ic| '============reset=================='\n"
     ]
    },
    {
     "name": "stdout",
     "output_type": "stream",
     "text": [
      "---------------------------------\n",
      "| rollout/           |          |\n",
      "|    ep_len_mean     | 91.9     |\n",
      "|    ep_rew_mean     | 1        |\n",
      "| time/              |          |\n",
      "|    episodes        | 104      |\n",
      "|    fps             | 4        |\n",
      "|    time_elapsed    | 8030     |\n",
      "|    total timesteps | 32357    |\n",
      "| train/             |          |\n",
      "|    actor_loss      | -0.0253  |\n",
      "|    critic_loss     | 4.9e-05  |\n",
      "|    ent_coef        | 0.000147 |\n",
      "|    ent_coef_loss   | -23.4    |\n",
      "|    learning_rate   | 0.000106 |\n",
      "|    n_updates       | 32356    |\n",
      "---------------------------------\n"
     ]
    },
    {
     "name": "stderr",
     "output_type": "stream",
     "text": [
      "ic| '============reset=================='\n",
      "ic| '============reset=================='\n",
      "ic| '============reset=================='\n",
      "ic| '============reset=================='\n"
     ]
    },
    {
     "name": "stdout",
     "output_type": "stream",
     "text": [
      "---------------------------------\n",
      "| rollout/           |          |\n",
      "|    ep_len_mean     | 91.9     |\n",
      "|    ep_rew_mean     | 1        |\n",
      "| time/              |          |\n",
      "|    episodes        | 108      |\n",
      "|    fps             | 4        |\n",
      "|    time_elapsed    | 8428     |\n",
      "|    total timesteps | 33957    |\n",
      "| train/             |          |\n",
      "|    actor_loss      | 0.00276  |\n",
      "|    critic_loss     | 9.12e-06 |\n",
      "|    ent_coef        | 0.000126 |\n",
      "|    ent_coef_loss   | -48.6    |\n",
      "|    learning_rate   | 9.63e-05 |\n",
      "|    n_updates       | 33956    |\n",
      "---------------------------------\n"
     ]
    },
    {
     "name": "stderr",
     "output_type": "stream",
     "text": [
      "ic| '============reset=================='\n",
      "ic| '============reset=================='\n",
      "ic| '============reset=================='\n",
      "ic| '============reset=================='\n"
     ]
    },
    {
     "name": "stdout",
     "output_type": "stream",
     "text": [
      "---------------------------------\n",
      "| rollout/           |          |\n",
      "|    ep_len_mean     | 91.9     |\n",
      "|    ep_rew_mean     | 1        |\n",
      "| time/              |          |\n",
      "|    episodes        | 112      |\n",
      "|    fps             | 4        |\n",
      "|    time_elapsed    | 8849     |\n",
      "|    total timesteps | 35557    |\n",
      "| train/             |          |\n",
      "|    actor_loss      | -0.00828 |\n",
      "|    critic_loss     | 2.74e-06 |\n",
      "|    ent_coef        | 0.000109 |\n",
      "|    ent_coef_loss   | -22.8    |\n",
      "|    learning_rate   | 8.67e-05 |\n",
      "|    n_updates       | 35556    |\n",
      "---------------------------------\n"
     ]
    },
    {
     "name": "stderr",
     "output_type": "stream",
     "text": [
      "ic| '============reset=================='\n",
      "ic| '============reset=================='\n",
      "ic| '============reset=================='\n",
      "ic| reward: 1.0, done: True\n",
      "ic| '============reset=================='\n"
     ]
    },
    {
     "name": "stdout",
     "output_type": "stream",
     "text": [
      "---------------------------------\n",
      "| rollout/           |          |\n",
      "|    ep_len_mean     | 89.6     |\n",
      "|    ep_rew_mean     | 1        |\n",
      "| time/              |          |\n",
      "|    episodes        | 116      |\n",
      "|    fps             | 4        |\n",
      "|    time_elapsed    | 9158     |\n",
      "|    total timesteps | 36778    |\n",
      "| train/             |          |\n",
      "|    actor_loss      | -0.0128  |\n",
      "|    critic_loss     | 5.93e-08 |\n",
      "|    ent_coef        | 9.82e-05 |\n",
      "|    ent_coef_loss   | -57.5    |\n",
      "|    learning_rate   | 7.93e-05 |\n",
      "|    n_updates       | 36777    |\n",
      "---------------------------------\n"
     ]
    },
    {
     "name": "stderr",
     "output_type": "stream",
     "text": [
      "ic| '============reset=================='\n",
      "ic| '============reset=================='\n",
      "ic| '============reset=================='\n",
      "ic| reward: 1.0, done: True\n",
      "ic| '============reset=================='\n"
     ]
    },
    {
     "name": "stdout",
     "output_type": "stream",
     "text": [
      "---------------------------------\n",
      "| rollout/           |          |\n",
      "|    ep_len_mean     | 87.5     |\n",
      "|    ep_rew_mean     | 1        |\n",
      "| time/              |          |\n",
      "|    episodes        | 120      |\n",
      "|    fps             | 4        |\n",
      "|    time_elapsed    | 9464     |\n",
      "|    total timesteps | 37999    |\n",
      "| train/             |          |\n",
      "|    actor_loss      | -0.0139  |\n",
      "|    critic_loss     | 1.61e-07 |\n",
      "|    ent_coef        | 9e-05    |\n",
      "|    ent_coef_loss   | -52.2    |\n",
      "|    learning_rate   | 7.2e-05  |\n",
      "|    n_updates       | 37998    |\n",
      "---------------------------------\n"
     ]
    },
    {
     "name": "stderr",
     "output_type": "stream",
     "text": [
      "ic| '============reset=================='\n",
      "ic| reward: 1.0, done: True\n",
      "ic| '============reset=================='\n",
      "ic| '============reset=================='\n",
      "ic| '============reset=================='\n"
     ]
    },
    {
     "name": "stdout",
     "output_type": "stream",
     "text": [
      "---------------------------------\n",
      "| rollout/           |          |\n",
      "|    ep_len_mean     | 85.2     |\n",
      "|    ep_rew_mean     | 1        |\n",
      "| time/              |          |\n",
      "|    episodes        | 124      |\n",
      "|    fps             | 4        |\n",
      "|    time_elapsed    | 9786     |\n",
      "|    total timesteps | 39212    |\n",
      "| train/             |          |\n",
      "|    actor_loss      | -0.0139  |\n",
      "|    critic_loss     | 1.72e-07 |\n",
      "|    ent_coef        | 8.24e-05 |\n",
      "|    ent_coef_loss   | -59.7    |\n",
      "|    learning_rate   | 6.47e-05 |\n",
      "|    n_updates       | 39211    |\n",
      "---------------------------------\n"
     ]
    },
    {
     "name": "stderr",
     "output_type": "stream",
     "text": [
      "ic| '============reset=================='\n",
      "ic| reward: 1.0, done: True\n",
      "ic| '============reset=================='\n",
      "ic| reward: 1.0, done: True\n",
      "ic| '============reset=================='\n",
      "ic| '============reset=================='\n"
     ]
    },
    {
     "name": "stdout",
     "output_type": "stream",
     "text": [
      "---------------------------------\n",
      "| rollout/           |          |\n",
      "|    ep_len_mean     | 81.9     |\n",
      "|    ep_rew_mean     | 1        |\n",
      "| time/              |          |\n",
      "|    episodes        | 128      |\n",
      "|    fps             | 3        |\n",
      "|    time_elapsed    | 10037    |\n",
      "|    total timesteps | 40067    |\n",
      "| train/             |          |\n",
      "|    actor_loss      | -0.0161  |\n",
      "|    critic_loss     | 1.57e-06 |\n",
      "|    ent_coef        | 7.81e-05 |\n",
      "|    ent_coef_loss   | -42.3    |\n",
      "|    learning_rate   | 5.96e-05 |\n",
      "|    n_updates       | 40066    |\n",
      "---------------------------------\n"
     ]
    },
    {
     "name": "stderr",
     "output_type": "stream",
     "text": [
      "ic| '============reset=================='\n",
      "ic| '============reset=================='\n",
      "ic| '============reset=================='\n",
      "ic| '============reset=================='\n"
     ]
    },
    {
     "name": "stdout",
     "output_type": "stream",
     "text": [
      "---------------------------------\n",
      "| rollout/           |          |\n",
      "|    ep_len_mean     | 81.9     |\n",
      "|    ep_rew_mean     | 1        |\n",
      "| time/              |          |\n",
      "|    episodes        | 132      |\n",
      "|    fps             | 3        |\n",
      "|    time_elapsed    | 10498    |\n",
      "|    total timesteps | 41667    |\n",
      "| train/             |          |\n",
      "|    actor_loss      | -0.0143  |\n",
      "|    critic_loss     | 2.05e-06 |\n",
      "|    ent_coef        | 7.2e-05  |\n",
      "|    ent_coef_loss   | -56.4    |\n",
      "|    learning_rate   | 5e-05    |\n",
      "|    n_updates       | 41666    |\n",
      "---------------------------------\n"
     ]
    },
    {
     "name": "stderr",
     "output_type": "stream",
     "text": [
      "ic| '============reset=================='\n",
      "ic| '============reset=================='\n",
      "ic| '============reset=================='\n",
      "ic| '============reset=================='\n"
     ]
    },
    {
     "name": "stdout",
     "output_type": "stream",
     "text": [
      "---------------------------------\n",
      "| rollout/           |          |\n",
      "|    ep_len_mean     | 81.9     |\n",
      "|    ep_rew_mean     | 1        |\n",
      "| time/              |          |\n",
      "|    episodes        | 136      |\n",
      "|    fps             | 3        |\n",
      "|    time_elapsed    | 10962    |\n",
      "|    total timesteps | 43267    |\n",
      "| train/             |          |\n",
      "|    actor_loss      | -0.0141  |\n",
      "|    critic_loss     | 2.12e-08 |\n",
      "|    ent_coef        | 6.7e-05  |\n",
      "|    ent_coef_loss   | -58.5    |\n",
      "|    learning_rate   | 4.04e-05 |\n",
      "|    n_updates       | 43266    |\n",
      "---------------------------------\n"
     ]
    },
    {
     "name": "stderr",
     "output_type": "stream",
     "text": [
      "ic| '============reset=================='\n"
     ]
    },
    {
     "name": "stdout",
     "output_type": "stream",
     "text": [
      "Saving to logs/sac/PandaTouchEnv_color-v0_16\n"
     ]
    }
   ],
   "source": [
    "train(args=args)"
   ]
  },
  {
   "cell_type": "code",
   "execution_count": null,
   "metadata": {},
   "outputs": [
    {
     "ename": "SyntaxError",
     "evalue": "invalid syntax (<ipython-input-4-f56d0c02a80c>, line 1)",
     "output_type": "error",
     "traceback": [
      "\u001b[0;36m  File \u001b[0;32m\"<ipython-input-4-f56d0c02a80c>\"\u001b[0;36m, line \u001b[0;32m1\u001b[0m\n\u001b[0;31m    tensorboard --logdir ./tensorboard_logs/PandaGraspEnv_color-v0/\u001b[0m\n\u001b[0m                          ^\u001b[0m\n\u001b[0;31mSyntaxError\u001b[0m\u001b[0;31m:\u001b[0m invalid syntax\n"
     ]
    }
   ],
   "source": [
    "%tensorboard --logdir ./tensorboard_logs/PandaGraspEnv_color-v0/"
   ]
  },
  {
   "cell_type": "code",
   "execution_count": null,
   "metadata": {},
   "outputs": [],
   "source": []
  },
  {
   "cell_type": "code",
   "execution_count": null,
   "metadata": {},
   "outputs": [],
   "source": []
  }
 ],
 "metadata": {
  "interpreter": {
   "hash": "79250dea48bd052fcbb33c25808a91c9ec53b051d004b31882d2537f33ff35da"
  },
  "kernelspec": {
   "display_name": "Python 3.7.10 64-bit ('drl_env': conda)",
   "name": "python3"
  },
  "language_info": {
   "codemirror_mode": {
    "name": "ipython",
    "version": 3
   },
   "file_extension": ".py",
   "mimetype": "text/x-python",
   "name": "python",
   "nbconvert_exporter": "python",
   "pygments_lexer": "ipython3",
   "version": "3.7.10"
  },
  "metadata": {
   "interpreter": {
    "hash": "79250dea48bd052fcbb33c25808a91c9ec53b051d004b31882d2537f33ff35da"
   }
  },
  "orig_nbformat": 2
 },
 "nbformat": 4,
 "nbformat_minor": 2
}